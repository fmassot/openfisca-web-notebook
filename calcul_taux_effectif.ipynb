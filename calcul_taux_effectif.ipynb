{
 "metadata": {
  "name": ""
 },
 "nbformat": 3,
 "nbformat_minor": 0,
 "worksheets": [
  {
   "cells": [
    {
     "cell_type": "code",
     "collapsed": false,
     "input": [
      "%pylab inline\n",
      "import collections\n",
      "import json\n",
      "import urllib2\n",
      "from pylab import *\n",
      "import matplotlib.pyplot as plt\n",
      "\n",
      "base_case = dict(\n",
      " decomposition = [\n",
      "        dict(code = 'salsuperbrut', title = 'Salaire super brut'),\n",
      "        dict(code = 'salnet', title = 'Salaire net'),\n",
      "        dict(code = 'sali', title = 'Salaire imposable'),\n",
      "        dict(code = 'loyer', title = 'Loyer'),\n",
      "        dict(code = 'revdisp', title = 'Revenu disponible'),\n",
      "        ],            \n",
      ")\n",
      "\n",
      "cases = {\n",
      "    \n",
      "}\n",
      "\n",
      "SALI_MAX = 1000000\n",
      "SALI_MIN = 20000\n",
      "SALI_STEP = 1000\n",
      "SALI_COUNT = (SALI_MAX-SALI_MIN)/SALI_STEP\n",
      "sali_range = range(SALI_MIN, SALI_MAX, SALI_STEP)"
     ],
     "language": "python",
     "metadata": {},
     "outputs": [
      {
       "output_type": "stream",
       "stream": "stdout",
       "text": [
        "Populating the interactive namespace from numpy and matplotlib\n"
       ]
      },
      {
       "output_type": "stream",
       "stream": "stderr",
       "text": [
        "WARNING: pylab import has clobbered these variables: ['power', 'random', 'fft', 'linalg', 'info']\n",
        "`%pylab --no-import-all` prevents importing * from pylab and numpy\n"
       ]
      }
     ],
     "prompt_number": 139
    },
    {
     "cell_type": "code",
     "collapsed": false,
     "input": [
      "simulation = dict(\n",
      "    decomposition = [\n",
      "        dict(code = 'salsuperbrut', title = 'Salaire super brut'),\n",
      "        dict(code = 'salnet', title = 'Salaire net'),\n",
      "        dict(code = 'sali', title = 'Salaire imposable'),\n",
      "        dict(code = 'loyer', title = 'Loyer'),\n",
      "        dict(code = 'revdisp', title = 'Revenu disponible'),\n",
      "        ],\n",
      "    scenarios = [\n",
      "        dict(\n",
      "            axes = [\n",
      "                dict(\n",
      "                    count = 1000,\n",
      "                    max = SALI_MAX,\n",
      "                    min = SALI_MIN,\n",
      "                    name = 'sali',\n",
      "                    ),\n",
      "                ],\n",
      "            test_case = dict(\n",
      "                familles = [\n",
      "                    dict(\n",
      "                        parents = ['ind0'],\n",
      "                        ),\n",
      "                    ],\n",
      "                foyers_fiscaux = [\n",
      "                    dict(\n",
      "                        declarants = ['ind0'],\n",
      "                        ),\n",
      "                    ],\n",
      "                individus = [\n",
      "                    dict(\n",
      "                        activite = u'Actif occup\u00e9',\n",
      "                        birth = 1970,\n",
      "                        cadre = True,\n",
      "                        id = 'ind0',\n",
      "                        statmarit = u'C\u00e9libataire',\n",
      "                        ),\n",
      "                    ],\n",
      "                menages = [\n",
      "                    dict(\n",
      "                        personne_de_reference = 'ind0',\n",
      "                        ),\n",
      "                    ],\n",
      "                ),\n",
      "            year = 2013,\n",
      "            ),\n",
      "        ],\n",
      "    )"
     ],
     "language": "python",
     "metadata": {},
     "outputs": [],
     "prompt_number": 140
    },
    {
     "cell_type": "code",
     "collapsed": false,
     "input": [],
     "language": "python",
     "metadata": {},
     "outputs": [],
     "prompt_number": 140
    },
    {
     "cell_type": "code",
     "collapsed": false,
     "input": [
      "print json.dumps(simulation, ensure_ascii=False, encoding=\"utf-8\")\n",
      "\n",
      "request = urllib2.Request('http://api.openfisca.fr/api/1/simulate', headers = {\n",
      "    'Content-Type': 'application/json',\n",
      "    'User-Agent': 'OpenFisca-Notebook',\n",
      "    })\n",
      "try:\n",
      "    response = urllib2.urlopen(request, json.dumps(simulation))\n",
      "except urllib2.HTTPError as response:\n",
      "    print response.read()\n",
      "    raise\n",
      "response_text = response.read()\n",
      "response_dict = json.loads(response_text, object_pairs_hook = collections.OrderedDict)\n",
      "variables = response_dict['value']"
     ],
     "language": "python",
     "metadata": {},
     "outputs": [
      {
       "output_type": "stream",
       "stream": "stdout",
       "text": [
        "{\"scenarios\": [{\"axes\": [{\"count\": 1000, \"max\": 1000000, \"name\": \"sali\", \"min\": 20000}], \"test_case\": {\"foyers_fiscaux\": [{\"declarants\": [\"ind0\"]}], \"individus\": [{\"cadre\": true, \"activite\": \"Actif occup\u00e9\", \"statmarit\": \"C\u00e9libataire\", \"id\": \"ind0\", \"birth\": 1970}], \"familles\": [{\"parents\": [\"ind0\"]}], \"menages\": [{\"personne_de_reference\": \"ind0\"}]}, \"year\": 2013}], \"decomposition\": [{\"code\": \"salsuperbrut\", \"title\": \"Salaire super brut\"}, {\"code\": \"salnet\", \"title\": \"Salaire net\"}, {\"code\": \"sali\", \"title\": \"Salaire imposable\"}, {\"code\": \"loyer\", \"title\": \"Loyer\"}, {\"code\": \"revdisp\", \"title\": \"Revenu disponible\"}]}\n"
       ]
      }
     ],
     "prompt_number": 141
    },
    {
     "cell_type": "code",
     "collapsed": false,
     "input": [
      "revdisps =  variables[4]['values']\n",
      "salis = variables[2]['values']"
     ],
     "language": "python",
     "metadata": {},
     "outputs": [],
     "prompt_number": 142
    },
    {
     "cell_type": "code",
     "collapsed": false,
     "input": [
      "taux_effectif = [1-revdisp/sali for revdisp, sali in zip(revdisps, salis)]"
     ],
     "language": "python",
     "metadata": {},
     "outputs": [],
     "prompt_number": 143
    },
    {
     "cell_type": "code",
     "collapsed": false,
     "input": [
      "figure()\n",
      "plot(salis, taux_effectif, 'r')\n",
      "show()"
     ],
     "language": "python",
     "metadata": {},
     "outputs": [
      {
       "metadata": {},
       "output_type": "display_data",
       "png": "[encoded data removed]",
       "text": [
        "<matplotlib.figure.Figure at 0x113496b50>"
       ]
      }
     ],
     "prompt_number": 144
    },
    {
     "cell_type": "code",
     "collapsed": false,
     "input": [],
     "language": "python",
     "metadata": {},
     "outputs": [],
     "prompt_number": 89
    },
    {
     "cell_type": "code",
     "collapsed": false,
     "input": [],
     "language": "python",
     "metadata": {},
     "outputs": [
      {
       "metadata": {},
       "output_type": "pyout",
       "prompt_number": 52,
       "text": [
        "99"
       ]
      }
     ],
     "prompt_number": 52
    },
    {
     "cell_type": "code",
     "collapsed": false,
     "input": [
      "variables[2]"
     ],
     "language": "python",
     "metadata": {},
     "outputs": [
      {
       "metadata": {},
       "output_type": "pyout",
       "prompt_number": 102,
       "text": [
        "OrderedDict([(u'code', u'sali'), (u'values', [10000, 10909, 11818, 12727, 13636, 14545, 15454, 16363, 17272, 18181, 19090, 20000, 20909, 21818, 22727, 23636, 24545, 25454, 26363, 27272, 28181, 29090, 30000, 30909, 31818, 32727, 33636, 34545, 35454, 36363, 37272, 38181, 39090, 40000, 40909, 41818, 42727, 43636, 44545, 45454, 46363, 47272, 48181, 49090, 50000, 50909, 51818, 52727, 53636, 54545, 55454, 56363, 57272, 58181, 59090, 60000, 60909, 61818, 62727, 63636, 64545, 65454, 66363, 67272, 68181, 69090, 70000, 70909, 71818, 72727, 73636, 74545, 75454, 76363, 77272, 78181, 79090, 80000, 80909, 81818, 82727, 83636, 84545, 85454, 86363, 87272, 88181, 89090, 90000, 90909, 91818, 92727, 93636, 94545, 95454, 96363, 97272, 98181, 99090, 100000]), (u'title', u'Salaire imposable')])"
       ]
      }
     ],
     "prompt_number": 102
    },
    {
     "cell_type": "code",
     "collapsed": false,
     "input": [
      "variables[4]"
     ],
     "language": "python",
     "metadata": {},
     "outputs": [
      {
       "metadata": {},
       "output_type": "pyout",
       "prompt_number": 103,
       "text": [
        "OrderedDict([(u'code', u'revdisp'), (u'values', [11455.46484375, 12019.044921875, 12582.625, 13146.205078125, 13591.6396484375, 14328.8603515625, 15065.869140625, 15803.0908203125, 16540.310546875, 17277.53125, 18034.5, 18829.83984375, 19624.3203125, 20418.80078125, 21213.279296875, 22007.759765625, 22802.099609375, 23596.580078125, 24391.060546875, 25185.5390625, 25980.01953125, 26774.501953125, 27510.798828125, 28174.400390625, 28838.001953125, 29501.599609375, 30165.197265625, 30828.802734375, 31492.099609375, 32155.69921875, 32819.30078125, 33482.8984375, 34146.5, 34810.80078125, 35474.3984375, 36138.0, 36801.6015625, 37465.19921875, 38128.5, 38792.1015625, 39455.69921875, 40119.30078125, 40782.8984375, 41446.5, 42110.80078125, 42774.3984375, 43438.0, 44101.6015625, 44765.19921875, 45428.5, 46092.1015625, 46755.69921875, 47419.296875, 48082.8984375, 48746.50390625, 49410.796875, 50074.3984375, 50738.0, 51401.6015625, 52065.203125, 52728.5, 53392.1015625, 54055.69921875, 54719.30078125, 55382.8984375, 56046.5, 56710.80078125, 57374.3984375, 58038.0, 58701.6015625, 59365.19921875, 60028.5, 60692.1015625, 61355.69921875, 62019.30078125, 62682.8984375, 63346.5, 63944.46875, 64518.08984375, 65091.7109375, 65665.328125, 66238.9453125, 66812.15625, 67385.78125, 67959.3984375, 68533.015625, 69106.640625, 69680.2578125, 70254.46875, 70828.09375, 71401.7109375, 71975.328125, 72548.953125, 73122.15625, 73695.7734375, 74269.390625, 74843.015625, 75416.6328125, 75990.2578125, 76564.46875]), (u'title', u'Revenu disponible')])"
       ]
      }
     ],
     "prompt_number": 103
    },
    {
     "cell_type": "code",
     "collapsed": false,
     "input": [
      "zip(sali_range, revdisps)"
     ],
     "language": "python",
     "metadata": {},
     "outputs": [
      {
       "metadata": {},
       "output_type": "pyout",
       "prompt_number": 112,
       "text": [
        "[(20000, 11455.46484375),\n",
        " (21000, 12019.044921875),\n",
        " (22000, 12582.625),\n",
        " (23000, 13146.205078125),\n",
        " (24000, 13591.6396484375),\n",
        " (25000, 14328.8603515625),\n",
        " (26000, 15065.869140625),\n",
        " (27000, 15803.0908203125),\n",
        " (28000, 16540.310546875),\n",
        " (29000, 17277.53125),\n",
        " (30000, 18034.5),\n",
        " (31000, 18829.83984375),\n",
        " (32000, 19624.3203125),\n",
        " (33000, 20418.80078125),\n",
        " (34000, 21213.279296875),\n",
        " (35000, 22007.759765625),\n",
        " (36000, 22802.099609375),\n",
        " (37000, 23596.580078125),\n",
        " (38000, 24391.060546875),\n",
        " (39000, 25185.5390625),\n",
        " (40000, 25980.01953125),\n",
        " (41000, 26774.501953125),\n",
        " (42000, 27510.798828125),\n",
        " (43000, 28174.400390625),\n",
        " (44000, 28838.001953125),\n",
        " (45000, 29501.599609375),\n",
        " (46000, 30165.197265625),\n",
        " (47000, 30828.802734375),\n",
        " (48000, 31492.099609375),\n",
        " (49000, 32155.69921875),\n",
        " (50000, 32819.30078125),\n",
        " (51000, 33482.8984375),\n",
        " (52000, 34146.5),\n",
        " (53000, 34810.80078125),\n",
        " (54000, 35474.3984375),\n",
        " (55000, 36138.0),\n",
        " (56000, 36801.6015625),\n",
        " (57000, 37465.19921875),\n",
        " (58000, 38128.5),\n",
        " (59000, 38792.1015625),\n",
        " (60000, 39455.69921875),\n",
        " (61000, 40119.30078125),\n",
        " (62000, 40782.8984375),\n",
        " (63000, 41446.5),\n",
        " (64000, 42110.80078125),\n",
        " (65000, 42774.3984375),\n",
        " (66000, 43438.0),\n",
        " (67000, 44101.6015625),\n",
        " (68000, 44765.19921875),\n",
        " (69000, 45428.5),\n",
        " (70000, 46092.1015625),\n",
        " (71000, 46755.69921875),\n",
        " (72000, 47419.296875),\n",
        " (73000, 48082.8984375),\n",
        " (74000, 48746.50390625),\n",
        " (75000, 49410.796875),\n",
        " (76000, 50074.3984375),\n",
        " (77000, 50738.0),\n",
        " (78000, 51401.6015625),\n",
        " (79000, 52065.203125),\n",
        " (80000, 52728.5),\n",
        " (81000, 53392.1015625),\n",
        " (82000, 54055.69921875),\n",
        " (83000, 54719.30078125),\n",
        " (84000, 55382.8984375),\n",
        " (85000, 56046.5),\n",
        " (86000, 56710.80078125),\n",
        " (87000, 57374.3984375),\n",
        " (88000, 58038.0),\n",
        " (89000, 58701.6015625),\n",
        " (90000, 59365.19921875),\n",
        " (91000, 60028.5),\n",
        " (92000, 60692.1015625),\n",
        " (93000, 61355.69921875),\n",
        " (94000, 62019.30078125),\n",
        " (95000, 62682.8984375),\n",
        " (96000, 63346.5),\n",
        " (97000, 63944.46875),\n",
        " (98000, 64518.08984375),\n",
        " (99000, 65091.7109375)]"
       ]
      }
     ],
     "prompt_number": 112
    },
    {
     "cell_type": "code",
     "collapsed": false,
     "input": [
      "variables[2]"
     ],
     "language": "python",
     "metadata": {},
     "outputs": [
      {
       "metadata": {},
       "output_type": "pyout",
       "prompt_number": 95,
       "text": [
        "OrderedDict([(u'code', u'sali'), (u'values', [10000, 10909, 11818, 12727, 13636, 14545, 15454, 16363, 17272, 18181, 19090, 20000, 20909, 21818, 22727, 23636, 24545, 25454, 26363, 27272, 28181, 29090, 30000, 30909, 31818, 32727, 33636, 34545, 35454, 36363, 37272, 38181, 39090, 40000, 40909, 41818, 42727, 43636, 44545, 45454, 46363, 47272, 48181, 49090, 50000, 50909, 51818, 52727, 53636, 54545, 55454, 56363, 57272, 58181, 59090, 60000, 60909, 61818, 62727, 63636, 64545, 65454, 66363, 67272, 68181, 69090, 70000, 70909, 71818, 72727, 73636, 74545, 75454, 76363, 77272, 78181, 79090, 80000, 80909, 81818, 82727, 83636, 84545, 85454, 86363, 87272, 88181, 89090, 90000, 90909, 91818, 92727, 93636, 94545, 95454, 96363, 97272, 98181, 99090, 100000]), (u'title', u'Salaire imposable')])"
       ]
      }
     ],
     "prompt_number": 95
    },
    {
     "cell_type": "code",
     "collapsed": false,
     "input": [
      "SALI_COUNT"
     ],
     "language": "python",
     "metadata": {},
     "outputs": [
      {
       "metadata": {},
       "output_type": "pyout",
       "prompt_number": 104,
       "text": [
        "80.0"
       ]
      }
     ],
     "prompt_number": 104
    },
    {
     "cell_type": "code",
     "collapsed": false,
     "input": [],
     "language": "python",
     "metadata": {},
     "outputs": []
    }
   ],
   "metadata": {}
  }
 ]
}