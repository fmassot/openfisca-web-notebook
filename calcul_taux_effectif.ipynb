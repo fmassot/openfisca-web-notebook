{
 "metadata": {
  "name": ""
 },
 "nbformat": 3,
 "nbformat_minor": 0,
 "worksheets": [
  {
   "cells": [
    {
     "cell_type": "code",
     "collapsed": false,
     "input": [
      "%pylab inline\n",
      "import collections\n",
      "import json\n",
      "import urllib2\n",
      "from pylab import *\n",
      "import matplotlib.pyplot as plt\n",
      "\n",
      "base_case = dict(\n",
      " decomposition = [\n",
      "        dict(code = 'salsuperbrut', title = 'Salaire super brut'),\n",
      "        dict(code = 'salnet', title = 'Salaire net'),\n",
      "        dict(code = 'sali', title = 'Salaire imposable'),\n",
      "        dict(code = 'revdisp', title = 'Revenu disponible'),\n",
      "        dict(code = 'cotsoc_noncontrib', title = 'Cotisations sociales non contributives'),\n",
      "        dict(code = 'cotsal_contrib', title = 'Cotisations sociales salariales contributives'),\n",
      "        dict(code = 'cotpat_contrib', title = 'Cotisations pa contributives'),\n",
      "        dict(code = 'irpp', title = 'irpp'),\n",
      "        ],            \n",
      ")\n",
      "\n",
      "# \n",
      "# revdisp \n",
      "# sali + cotpat_contrib + cotsal_contrib\n",
      "# 1- revdisp / sali + cotsoc_noncontrib\n",
      "# \n",
      "SALI_MAX = 200000\n",
      "SALI_MIN = 20000\n",
      "SALI_STEP = 1000\n",
      "SALI_COUNT = (SALI_MAX-SALI_MIN)/SALI_STEP\n",
      "sali_range = range(SALI_MIN, SALI_MAX, SALI_STEP)"
     ],
     "language": "python",
     "metadata": {},
     "outputs": [
      {
       "output_type": "stream",
       "stream": "stdout",
       "text": [
        "Populating the interactive namespace from numpy and matplotlib\n"
       ]
      },
      {
       "output_type": "stream",
       "stream": "stderr",
       "text": [
        "WARNING: pylab import has clobbered these variables: ['power', 'random', 'fft', 'test', 'linalg', 'info']\n",
        "`%pylab --no-import-all` prevents importing * from pylab and numpy\n"
       ]
      }
     ],
     "prompt_number": 211
    },
    {
     "cell_type": "code",
     "collapsed": false,
     "input": [
      "simulation = dict(\n",
      "    base_case,\n",
      "    scenarios = [\n",
      "        dict(\n",
      "            axes = [\n",
      "                dict(\n",
      "                    count = 1000,\n",
      "                    max = SALI_MAX,\n",
      "                    min = SALI_MIN,\n",
      "                    name = 'sali',\n",
      "                    ),\n",
      "                ],\n",
      "            test_case = dict(\n",
      "                familles = [\n",
      "                    dict(\n",
      "                        parents = ['ind0'],\n",
      "                        ),\n",
      "                    ],\n",
      "                foyers_fiscaux = [\n",
      "                    dict(\n",
      "                        declarants = ['ind0'],\n",
      "                        ),\n",
      "                    ],\n",
      "                individus = [\n",
      "                    dict(\n",
      "                        activite = u'Actif occup\u00e9',\n",
      "                        birth = 1970,\n",
      "                        cadre = True,\n",
      "                        id = 'ind0',\n",
      "                        statmarit = u'C\u00e9libataire',\n",
      "                        ),\n",
      "                    ],\n",
      "                menages = [\n",
      "                    dict(\n",
      "                        personne_de_reference = 'ind0',\n",
      "                        ),\n",
      "                    ],\n",
      "                ),\n",
      "            year = 2013,\n",
      "            ),\n",
      "        ],\n",
      "    )"
     ],
     "language": "python",
     "metadata": {},
     "outputs": [],
     "prompt_number": 212
    },
    {
     "cell_type": "code",
     "collapsed": false,
     "input": [],
     "language": "python",
     "metadata": {},
     "outputs": [],
     "prompt_number": 212
    },
    {
     "cell_type": "code",
     "collapsed": false,
     "input": [
      "print json.dumps(simulation, ensure_ascii=False, encoding=\"utf-8\")\n",
      "\n",
      "request = urllib2.Request('http://api.openfisca.fr/api/1/simulate', headers = {\n",
      "    'Content-Type': 'application/json',\n",
      "    'User-Agent': 'OpenFisca-Notebook',\n",
      "    })\n",
      "try:\n",
      "    response = urllib2.urlopen(request, json.dumps(simulation))\n",
      "except urllib2.HTTPError as response:\n",
      "    print response.read()\n",
      "    raise\n",
      "response_text = response.read()\n",
      "response_dict = json.loads(response_text, object_pairs_hook = collections.OrderedDict)\n",
      "variables = response_dict['value']"
     ],
     "language": "python",
     "metadata": {},
     "outputs": [
      {
       "output_type": "stream",
       "stream": "stdout",
       "text": [
        "{\"scenarios\": [{\"axes\": [{\"count\": 1000, \"max\": 200000, \"name\": \"sali\", \"min\": 20000}], \"test_case\": {\"foyers_fiscaux\": [{\"declarants\": [\"ind0\"]}], \"individus\": [{\"cadre\": true, \"activite\": \"Actif occup\u00e9\", \"statmarit\": \"C\u00e9libataire\", \"id\": \"ind0\", \"birth\": 1970}], \"familles\": [{\"parents\": [\"ind0\"]}], \"menages\": [{\"personne_de_reference\": \"ind0\"}]}, \"year\": 2013}], \"decomposition\": [{\"code\": \"salsuperbrut\", \"title\": \"Salaire super brut\"}, {\"code\": \"salnet\", \"title\": \"Salaire net\"}, {\"code\": \"sali\", \"title\": \"Salaire imposable\"}, {\"code\": \"revdisp\", \"title\": \"Revenu disponible\"}, {\"code\": \"cotsoc_noncontrib\", \"title\": \"Cotisations sociales non contributives\"}, {\"code\": \"cotsal_contrib\", \"title\": \"Cotisations sociales salariales contributives\"}, {\"code\": \"cotpat_contrib\", \"title\": \"Cotisations pa contributives\"}, {\"code\": \"irpp\", \"title\": \"irpp\"}]}\n"
       ]
      }
     ],
     "prompt_number": 213
    },
    {
     "cell_type": "code",
     "collapsed": false,
     "input": [
      "salsuperbruts = variables[0]['values']\n",
      "revdisps =  variables[3]['values']\n",
      "salis = variables[2]['values']\n",
      "cotsoc_noncontribs = variables[4]['values']\n",
      "cotsal_contribs = variables[5]['values']\n",
      "cotpat_contribs = variables[6]['values']\n",
      "irpps = variables[7]['values']\n",
      "# \n",
      "# revdisp \n",
      "# sali + cotpat_contrib + cotsal_contrib\n",
      "# 1- revdisp / sali + cotsoc_noncontrib\n",
      "# \n",
      "print variables[2]['code']"
     ],
     "language": "python",
     "metadata": {},
     "outputs": [
      {
       "output_type": "stream",
       "stream": "stdout",
       "text": [
        "sali\n"
       ]
      }
     ],
     "prompt_number": 214
    },
    {
     "cell_type": "code",
     "collapsed": false,
     "input": [
      "test = [1-revdisp/(revdisp-cotsoc_noncontrib-irpp) for revdisp, sali, cotsoc_noncontrib, irpp in zip(revdisps, salis, cotsoc_noncontribs, irpps)]"
     ],
     "language": "python",
     "metadata": {},
     "outputs": [],
     "prompt_number": 215
    },
    {
     "cell_type": "code",
     "collapsed": false,
     "input": [
      "taux_revdisp = [1-revdisp/sp for revdisp, sp in zip(revdisps, salsuperbruts)]\n",
      "taux_sali = [1-sali/sp for sali, sp in zip(salis,salsuperbruts)]"
     ],
     "language": "python",
     "metadata": {},
     "outputs": [],
     "prompt_number": 216
    },
    {
     "cell_type": "code",
     "collapsed": false,
     "input": [
      "figure()\n",
      "plot(salis, taux_revdisp, 'r')\n",
      "plot(salis, taux_sali, 'b')\n",
      "show()"
     ],
     "language": "python",
     "metadata": {},
     "outputs": [
      {
       "metadata": {},
       "output_type": "display_data",
       "png": "[encoded data removed]",
       "text": [
        "<matplotlib.figure.Figure at 0x11228fb90>"
       ]
      }
     ],
     "prompt_number": 217
    },
    {
     "cell_type": "code",
     "collapsed": false,
     "input": [
      "\n",
      "# \n",
      "\n"
     ],
     "language": "python",
     "metadata": {},
     "outputs": [],
     "prompt_number": 199
    },
    {
     "cell_type": "code",
     "collapsed": false,
     "input": [],
     "language": "python",
     "metadata": {},
     "outputs": [],
     "prompt_number": 199
    },
    {
     "cell_type": "code",
     "collapsed": false,
     "input": [],
     "language": "python",
     "metadata": {},
     "outputs": [],
     "prompt_number": 199
    },
    {
     "cell_type": "code",
     "collapsed": false,
     "input": [],
     "language": "python",
     "metadata": {},
     "outputs": [],
     "prompt_number": 199
    },
    {
     "cell_type": "code",
     "collapsed": false,
     "input": [],
     "language": "python",
     "metadata": {},
     "outputs": [],
     "prompt_number": 199
    },
    {
     "cell_type": "code",
     "collapsed": false,
     "input": [],
     "language": "python",
     "metadata": {},
     "outputs": [],
     "prompt_number": 199
    },
    {
     "cell_type": "code",
     "collapsed": false,
     "input": [],
     "language": "python",
     "metadata": {},
     "outputs": [],
     "prompt_number": 199
    },
    {
     "cell_type": "code",
     "collapsed": false,
     "input": [],
     "language": "python",
     "metadata": {},
     "outputs": [],
     "prompt_number": 199
    },
    {
     "cell_type": "code",
     "collapsed": false,
     "input": [],
     "language": "python",
     "metadata": {},
     "outputs": []
    }
   ],
   "metadata": {}
  }
 ]
}